{
 "cells": [
  {
   "cell_type": "markdown",
   "metadata": {},
   "source": [
    "# <center> <img src=\"figs/LogoUFSCar.jpg\" alt=\"Logo UFScar\" width=\"110\" align=\"left\"/>  <br/> <center>Universidade Federal de São Carlos (UFSCar)<br/><font size=\"4\"> Departamento de Computação, campus Sorocaba</center></font>\n",
    "</p>\n",
    "\n",
    "<font size=\"4\"><center><b>Disciplina: Aprendizado de Máquina</b></center></font>\n",
    "  \n",
    "<font size=\"3\"><center>Prof. Dr. Tiago A. Almeida</center></font>\n",
    "\n",
    "## <center>Projeto Final</center>\n",
    "\n",
    "**Aluno**:\n",
    "\n",
    "**RA**: \n"
   ]
  },
  {
   "cell_type": "markdown",
   "metadata": {},
   "source": [
    "---\n",
    "### Análise exploratória\n",
    "\n",
    "Nesta seção, deve ser feita a leitura da base de dados e todas as análises necessárias para interpretar e analisar os dados, tais como:\n",
    "* Significado de cada atributo\n",
    "* Medidas descritivas\n",
    "* Gráficos"
   ]
  },
  {
   "cell_type": "code",
   "execution_count": 1,
   "metadata": {},
   "outputs": [
    {
     "name": "stdout",
     "output_type": "stream",
     "text": [
      "data/raw_data/news_data_17_May_2020.csv\n",
      "data/raw_data/news_data_19_Jul_2020.csv\n",
      "data/raw_data/news_data_12_Dec_2019.csv\n",
      "data/raw_data/news_data_15_Mar_2020.csv\n",
      "data/raw_data/news_data_16_Apr_2020.csv\n",
      "data/raw_data/news_data_14_Feb_2020.csv\n",
      "data/raw_data/news_data_08_Aug_2019.csv\n",
      "data/raw_data/news_data_01_Jan_2019.csv\n",
      "data/raw_data/news_data_09_Sep_2019.csv\n",
      "data/raw_data/news_data_23_Nov_2020.csv\n",
      "data/raw_data/news_data_24_Dec_2020.csv\n",
      "data/raw_data/news_data_03_Mar_2019.csv\n",
      "data/raw_data/news_data_21_Sep_2020.csv\n",
      "data/raw_data/news_data_02_Feb_2019.csv\n",
      "data/raw_data/news_data_04_Apr_2019.csv\n",
      "data/raw_data/news_data_07_Jul_2019.csv\n",
      "data/raw_data/news_data_22_Oct_2020.csv\n",
      "data/raw_data/news_data_20_Aug_2020.csv\n",
      "data/raw_data/news_data_18_Jun_2020.csv\n",
      "data/raw_data/train.csv\n",
      "data/raw_data/news_data_06_Jun_2019.csv\n",
      "data/raw_data/news_data_05_May_2019.csv\n",
      "data/raw_data/news_data_10_Oct_2019.csv\n",
      "data/raw_data/sample_submission.csv\n",
      "data/raw_data/test.csv\n",
      "data/raw_data/news_data_11_Nov_2019.csv\n",
      "data/raw_data/news_data_13_Jan_2020.csv\n",
      "data/pre_processed_data/preprocessed_joined_train.csv\n",
      "data/pre_processed_data/preprocessed_test.csv\n",
      "data/pre_processed_data/all_news.csv\n"
     ]
    }
   ],
   "source": [
    "import numpy as np # linear algebra\n",
    "import pandas as pd # data processing, CSV file I/O (e.g. pd.read_csv)\n",
    "\n",
    "# Input data files are available in the read-only \"../input/\" directory\n",
    "# For example, running this (by clicking run or pressing Shift+Enter) will list all files under the input directory\n",
    "\n",
    "import os\n",
    "for dirname, _, filenames in os.walk('data'):\n",
    "    for filename in filenames:\n",
    "        print(os.path.join(dirname, filename))"
   ]
  },
  {
   "cell_type": "markdown",
   "metadata": {},
   "source": [
    "Primeira tentativa: o conjunto de treino foi somente os 3 primeiros meses\n"
   ]
  },
  {
   "cell_type": "code",
   "execution_count": 2,
   "metadata": {},
   "outputs": [],
   "source": [
    "# first_sample = pd.read_csv(\"data/raw_data/news_data_01_Jan_2019.csv\") #\n",
    "# sec_sample = pd.read_csv(\"data/raw_data/news_data_02_Feb_2019.csv\")   # Juntos formam o X\n",
    "# third_sample = pd.read_csv(\"data/raw_data/news_data_03_Mar_2019.csv\") #\n",
    "\n",
    "train_csv = pd.read_csv(\"data/raw_data/train.csv\")                    # É o Y (com os labels)\n",
    "\n",
    "test_csv = pd.read_csv(\"data/raw_data/test.csv\")                      # Teste\n",
    "\n",
    "sample_sub = pd.read_csv(\"data/raw_data/sample_submission.csv\")       # Submissão\n",
    "\n",
    "alldata = pd.read_csv(\"data/pre_processed_data/all_news.csv\")    "
   ]
  },
  {
   "cell_type": "code",
   "execution_count": null,
   "metadata": {},
   "outputs": [],
   "source": [
    "# diretorio = '/kaggle/input/ufscar-am-2023-2-projeto-final'\n",
    "\n",
    "#arquivos_csv = [arquivo for arquivo in os.listdir(diretorio) if arquivo.startswith('new') and arquivo.endswith('.csv')]\n",
    "\n",
    "#dados_concatenados = pd.DataFrame()\n",
    "\n",
    "#for arquivo in arquivos_csv:\n",
    " #   print(arquivo)\n",
    "  #  caminho_arquivo = os.path.join(diretorio, arquivo)\n",
    "   # dados = pd.read_csv(caminho_arquivo)\n",
    "    #dados_concatenados = pd.concat([dados_concatenados, dados], ignore_index=True)\n",
    "\n",
    "#dados_concatenados.to_csv(f'/kaggle/working/all_news.csv', index=False)"
   ]
  },
  {
   "cell_type": "code",
   "execution_count": 4,
   "metadata": {},
   "outputs": [
    {
     "data": {
      "text/html": [
       "<div>\n",
       "<style scoped>\n",
       "    .dataframe tbody tr th:only-of-type {\n",
       "        vertical-align: middle;\n",
       "    }\n",
       "\n",
       "    .dataframe tbody tr th {\n",
       "        vertical-align: top;\n",
       "    }\n",
       "\n",
       "    .dataframe thead th {\n",
       "        text-align: right;\n",
       "    }\n",
       "</style>\n",
       "<table border=\"1\" class=\"dataframe\">\n",
       "  <thead>\n",
       "    <tr style=\"text-align: right;\">\n",
       "      <th></th>\n",
       "      <th>id</th>\n",
       "      <th>title</th>\n",
       "      <th>content</th>\n",
       "      <th>date</th>\n",
       "    </tr>\n",
       "  </thead>\n",
       "  <tbody>\n",
       "    <tr>\n",
       "      <th>0</th>\n",
       "      <td>id-3378296</td>\n",
       "      <td>WATCH LIVE: Kayleigh McEnany holds White House...</td>\n",
       "      <td>White House Press Secretary Kayleigh McEnany i...</td>\n",
       "      <td>2020-09-24</td>\n",
       "    </tr>\n",
       "    <tr>\n",
       "      <th>1</th>\n",
       "      <td>id-3138916</td>\n",
       "      <td>Phil Collins funny moment…</td>\n",
       "      <td>Post was not sent - check your email addresses...</td>\n",
       "      <td>2020-08-07</td>\n",
       "    </tr>\n",
       "    <tr>\n",
       "      <th>2</th>\n",
       "      <td>id-3304259</td>\n",
       "      <td>House panel investigating postmaster general o...</td>\n",
       "      <td>Washington — The House Oversight and Reform Co...</td>\n",
       "      <td>2020-09-08</td>\n",
       "    </tr>\n",
       "    <tr>\n",
       "      <th>3</th>\n",
       "      <td>id-3381436</td>\n",
       "      <td>Trump won’t commit to a ‘peaceful transfer of ...</td>\n",
       "      <td>“ Well , we ’ re going to have to see what hap...</td>\n",
       "      <td>2020-09-24</td>\n",
       "    </tr>\n",
       "    <tr>\n",
       "      <th>4</th>\n",
       "      <td>id-3594175</td>\n",
       "      <td>AP PHOTOS: Worldly concerns bleed into the spi...</td>\n",
       "      <td>A figure of a saint consumed by flames after p...</td>\n",
       "      <td>2020-11-01</td>\n",
       "    </tr>\n",
       "    <tr>\n",
       "      <th>...</th>\n",
       "      <td>...</td>\n",
       "      <td>...</td>\n",
       "      <td>...</td>\n",
       "      <td>...</td>\n",
       "    </tr>\n",
       "    <tr>\n",
       "      <th>167703</th>\n",
       "      <td>id-3606259</td>\n",
       "      <td>Catholic Foster Care Agency Should Be Able to ...</td>\n",
       "      <td>Catholic Foster Care Agency Should Be Able to ...</td>\n",
       "      <td>2020-11-05</td>\n",
       "    </tr>\n",
       "    <tr>\n",
       "      <th>167704</th>\n",
       "      <td>id-3028526</td>\n",
       "      <td>Egypt desperate to revive coronavirus-hit tour...</td>\n",
       "      <td>A wonder of the world , the pyramids at Giza h...</td>\n",
       "      <td>2020-07-15</td>\n",
       "    </tr>\n",
       "    <tr>\n",
       "      <th>167705</th>\n",
       "      <td>id-3458862</td>\n",
       "      <td>Coronavirus UK news – Test and trace CHAOS as ...</td>\n",
       "      <td>BRITAIN 'S calamitous test and trace system ha...</td>\n",
       "      <td>2020-10-08</td>\n",
       "    </tr>\n",
       "    <tr>\n",
       "      <th>167706</th>\n",
       "      <td>id-3729241</td>\n",
       "      <td>Recount Confirms Biden’s Wisconsin Win</td>\n",
       "      <td>“ President Trump blasted judges ’ rejections ...</td>\n",
       "      <td>2020-11-29</td>\n",
       "    </tr>\n",
       "    <tr>\n",
       "      <th>167707</th>\n",
       "      <td>id-3419643</td>\n",
       "      <td>Republicans Seek Distance from Trump</td>\n",
       "      <td>“ I ’ m just sad with the way last night turne...</td>\n",
       "      <td>2020-10-01</td>\n",
       "    </tr>\n",
       "  </tbody>\n",
       "</table>\n",
       "<p>167708 rows × 4 columns</p>\n",
       "</div>"
      ],
      "text/plain": [
       "                id                                              title  \\\n",
       "0       id-3378296  WATCH LIVE: Kayleigh McEnany holds White House...   \n",
       "1       id-3138916                         Phil Collins funny moment…   \n",
       "2       id-3304259  House panel investigating postmaster general o...   \n",
       "3       id-3381436  Trump won’t commit to a ‘peaceful transfer of ...   \n",
       "4       id-3594175  AP PHOTOS: Worldly concerns bleed into the spi...   \n",
       "...            ...                                                ...   \n",
       "167703  id-3606259  Catholic Foster Care Agency Should Be Able to ...   \n",
       "167704  id-3028526  Egypt desperate to revive coronavirus-hit tour...   \n",
       "167705  id-3458862  Coronavirus UK news – Test and trace CHAOS as ...   \n",
       "167706  id-3729241             Recount Confirms Biden’s Wisconsin Win   \n",
       "167707  id-3419643               Republicans Seek Distance from Trump   \n",
       "\n",
       "                                                  content        date  \n",
       "0       White House Press Secretary Kayleigh McEnany i...  2020-09-24  \n",
       "1       Post was not sent - check your email addresses...  2020-08-07  \n",
       "2       Washington — The House Oversight and Reform Co...  2020-09-08  \n",
       "3       “ Well , we ’ re going to have to see what hap...  2020-09-24  \n",
       "4       A figure of a saint consumed by flames after p...  2020-11-01  \n",
       "...                                                   ...         ...  \n",
       "167703  Catholic Foster Care Agency Should Be Able to ...  2020-11-05  \n",
       "167704  A wonder of the world , the pyramids at Giza h...  2020-07-15  \n",
       "167705  BRITAIN 'S calamitous test and trace system ha...  2020-10-08  \n",
       "167706  “ President Trump blasted judges ’ rejections ...  2020-11-29  \n",
       "167707  “ I ’ m just sad with the way last night turne...  2020-10-01  \n",
       "\n",
       "[167708 rows x 4 columns]"
      ]
     },
     "execution_count": 4,
     "metadata": {},
     "output_type": "execute_result"
    }
   ],
   "source": [
    "test = test_csv.merge(alldata, on = \"id\")\n",
    "test"
   ]
  },
  {
   "cell_type": "code",
   "execution_count": 5,
   "metadata": {},
   "outputs": [
    {
     "data": {
      "text/html": [
       "<div>\n",
       "<style scoped>\n",
       "    .dataframe tbody tr th:only-of-type {\n",
       "        vertical-align: middle;\n",
       "    }\n",
       "\n",
       "    .dataframe tbody tr th {\n",
       "        vertical-align: top;\n",
       "    }\n",
       "\n",
       "    .dataframe thead th {\n",
       "        text-align: right;\n",
       "    }\n",
       "</style>\n",
       "<table border=\"1\" class=\"dataframe\">\n",
       "  <thead>\n",
       "    <tr style=\"text-align: right;\">\n",
       "      <th></th>\n",
       "      <th>id</th>\n",
       "      <th>label</th>\n",
       "      <th>title</th>\n",
       "      <th>content</th>\n",
       "      <th>date</th>\n",
       "    </tr>\n",
       "  </thead>\n",
       "  <tbody>\n",
       "    <tr>\n",
       "      <th>0</th>\n",
       "      <td>id-1000000</td>\n",
       "      <td>NaN</td>\n",
       "      <td>Germany and Russia: natural partners, so why n...</td>\n",
       "      <td>This [ post ] ( https : //www.fort-russ.com/20...</td>\n",
       "      <td>2019-01-01</td>\n",
       "    </tr>\n",
       "    <tr>\n",
       "      <th>1</th>\n",
       "      <td>id-1000001</td>\n",
       "      <td>1.0</td>\n",
       "      <td>Netflix Pulls Muslim Comedy Show After Saudi C...</td>\n",
       "      <td>The in Hollywood continues to eat itself , as ...</td>\n",
       "      <td>2019-01-01</td>\n",
       "    </tr>\n",
       "    <tr>\n",
       "      <th>2</th>\n",
       "      <td>id-1000002</td>\n",
       "      <td>NaN</td>\n",
       "      <td>New Study Reports that Grass Really IS Greener...</td>\n",
       "      <td>While the adage that the grass is always green...</td>\n",
       "      <td>2019-01-01</td>\n",
       "    </tr>\n",
       "    <tr>\n",
       "      <th>3</th>\n",
       "      <td>id-1000003</td>\n",
       "      <td>0.0</td>\n",
       "      <td>NaN</td>\n",
       "      <td>Daniel Mihailescu , AFP | The government build...</td>\n",
       "      <td>2019-01-01</td>\n",
       "    </tr>\n",
       "    <tr>\n",
       "      <th>4</th>\n",
       "      <td>id-1000004</td>\n",
       "      <td>0.0</td>\n",
       "      <td>Nasri completes West Ham move as transfer wind...</td>\n",
       "      <td>Former France midfielder Samir Nasri has compl...</td>\n",
       "      <td>2019-01-01</td>\n",
       "    </tr>\n",
       "    <tr>\n",
       "      <th>...</th>\n",
       "      <td>...</td>\n",
       "      <td>...</td>\n",
       "      <td>...</td>\n",
       "      <td>...</td>\n",
       "      <td>...</td>\n",
       "    </tr>\n",
       "    <tr>\n",
       "      <th>1947879</th>\n",
       "      <td>id-2947879</td>\n",
       "      <td>0.0</td>\n",
       "      <td>Chicagoans mourn victims of gun violence after...</td>\n",
       "      <td>Treja Kelley had been hesitant to come forward...</td>\n",
       "      <td>2020-06-30</td>\n",
       "    </tr>\n",
       "    <tr>\n",
       "      <th>1947880</th>\n",
       "      <td>id-2947880</td>\n",
       "      <td>1.0</td>\n",
       "      <td>HITTING AIR POCKETS: Masses Choking – DEATH BY...</td>\n",
       "      <td>There are no BOOM AND BUST cycles anymore , at...</td>\n",
       "      <td>1940-06-30</td>\n",
       "    </tr>\n",
       "    <tr>\n",
       "      <th>1947881</th>\n",
       "      <td>id-2947881</td>\n",
       "      <td>0.0</td>\n",
       "      <td>Coronavirus in Illinois updates: Here’s what’s...</td>\n",
       "      <td>Illinois health officials Monday reported 738 ...</td>\n",
       "      <td>2020-06-30</td>\n",
       "    </tr>\n",
       "    <tr>\n",
       "      <th>1947882</th>\n",
       "      <td>id-2947882</td>\n",
       "      <td>NaN</td>\n",
       "      <td>FEMA Camp Has Begun Homeless First</td>\n",
       "      <td>In August , the Colombia City Council unanimou...</td>\n",
       "      <td>2020-06-30</td>\n",
       "    </tr>\n",
       "    <tr>\n",
       "      <th>1947883</th>\n",
       "      <td>id-2947883</td>\n",
       "      <td>NaN</td>\n",
       "      <td>‘Blood on their hands’: Congressman slams NY T...</td>\n",
       "      <td>The New York Times story accusing Russia of of...</td>\n",
       "      <td>2020-06-30</td>\n",
       "    </tr>\n",
       "  </tbody>\n",
       "</table>\n",
       "<p>1947884 rows × 5 columns</p>\n",
       "</div>"
      ],
      "text/plain": [
       "                 id  label                                              title  \\\n",
       "0        id-1000000    NaN  Germany and Russia: natural partners, so why n...   \n",
       "1        id-1000001    1.0  Netflix Pulls Muslim Comedy Show After Saudi C...   \n",
       "2        id-1000002    NaN  New Study Reports that Grass Really IS Greener...   \n",
       "3        id-1000003    0.0                                                NaN   \n",
       "4        id-1000004    0.0  Nasri completes West Ham move as transfer wind...   \n",
       "...             ...    ...                                                ...   \n",
       "1947879  id-2947879    0.0  Chicagoans mourn victims of gun violence after...   \n",
       "1947880  id-2947880    1.0  HITTING AIR POCKETS: Masses Choking – DEATH BY...   \n",
       "1947881  id-2947881    0.0  Coronavirus in Illinois updates: Here’s what’s...   \n",
       "1947882  id-2947882    NaN                 FEMA Camp Has Begun Homeless First   \n",
       "1947883  id-2947883    NaN  ‘Blood on their hands’: Congressman slams NY T...   \n",
       "\n",
       "                                                   content        date  \n",
       "0        This [ post ] ( https : //www.fort-russ.com/20...  2019-01-01  \n",
       "1        The in Hollywood continues to eat itself , as ...  2019-01-01  \n",
       "2        While the adage that the grass is always green...  2019-01-01  \n",
       "3        Daniel Mihailescu , AFP | The government build...  2019-01-01  \n",
       "4        Former France midfielder Samir Nasri has compl...  2019-01-01  \n",
       "...                                                    ...         ...  \n",
       "1947879  Treja Kelley had been hesitant to come forward...  2020-06-30  \n",
       "1947880  There are no BOOM AND BUST cycles anymore , at...  1940-06-30  \n",
       "1947881  Illinois health officials Monday reported 738 ...  2020-06-30  \n",
       "1947882  In August , the Colombia City Council unanimou...  2020-06-30  \n",
       "1947883  The New York Times story accusing Russia of of...  2020-06-30  \n",
       "\n",
       "[1947884 rows x 5 columns]"
      ]
     },
     "execution_count": 5,
     "metadata": {},
     "output_type": "execute_result"
    }
   ],
   "source": [
    "joinned_train = train_csv.merge(alldata, on = \"id\")\n",
    "joinned_train"
   ]
  },
  {
   "cell_type": "code",
   "execution_count": 6,
   "metadata": {},
   "outputs": [],
   "source": [
    "joinned_train.dropna(inplace = True)\n",
    "joinned_train.drop(columns = [ \"id\", \"date\" ], inplace = True)"
   ]
  },
  {
   "cell_type": "code",
   "execution_count": 7,
   "metadata": {},
   "outputs": [],
   "source": [
    "test.drop(columns = [ \"id\", \"date\" ], inplace = True)"
   ]
  },
  {
   "cell_type": "code",
   "execution_count": 10,
   "metadata": {},
   "outputs": [
    {
     "ename": "",
     "evalue": "",
     "output_type": "error",
     "traceback": [
      "\u001b[1;31mThe Kernel crashed while executing code in the the current cell or a previous cell. Please review the code in the cell(s) to identify a possible cause of the failure. Click <a href='https://aka.ms/vscodeJupyterKernelCrash'>here</a> for more info. View Jupyter <a href='command:jupyter.viewOutput'>log</a> for further details."
     ]
    }
   ],
   "source": [
    "joinned_train['title_content'] = joinned_train['title'] + \" \" + joinned_train['content']\n",
    "test['title_content'] = test['title'] + \" \" + test['content']"
   ]
  },
  {
   "cell_type": "code",
   "execution_count": null,
   "metadata": {},
   "outputs": [],
   "source": [
    "# train = pd.concat([first_sample, sec_sample, third_sample])"
   ]
  },
  {
   "cell_type": "code",
   "execution_count": null,
   "metadata": {},
   "outputs": [],
   "source": [
    "#joinned_train = pd.read_csv(\"/kaggle/input/alldata-joinned-train/alldata_joinned_train.csv\")"
   ]
  },
  {
   "cell_type": "code",
   "execution_count": null,
   "metadata": {},
   "outputs": [],
   "source": [
    "# colocar tudo em minusculo\n",
    "# tirar acentuação\n",
    "# tirar stopwords\n",
    "\n",
    "import nltk\n",
    "from nltk.corpus import stopwords\n",
    "import re\n",
    "import string\n",
    "\n",
    "PUNCT_TO_REMOVE = string.punctuation\n",
    "STOPWORDS = set(stopwords.words('english'))\n",
    "\n",
    "nltk.download('stopwords')\n",
    "\n",
    "def remove_punctuation(text):\n",
    "    return text.translate(str.maketrans('', '', PUNCT_TO_REMOVE))\n",
    "\n",
    "def remove_stopwords(text):\n",
    "    return \" \".join([word for word in str(text).split() if word not in STOPWORDS])\n",
    "\n",
    "def lower(text):\n",
    "    return text.lower()\n",
    "\n",
    "def preprocess(text):\n",
    "    if pd.isnull(text):  # Verifica se é NaN\n",
    "        return \"\"\n",
    "\n",
    "    text = remove_punctuation(text)\n",
    "    text = remove_stopwords(text)\n",
    "    text = lower(text)\n",
    "\n",
    "    return text"
   ]
  },
  {
   "cell_type": "markdown",
   "metadata": {},
   "source": [
    "---\n",
    "### Pré-processamento\n",
    "\n",
    "Nesta seção, as funções da etapa de pré-processamento dos dados devem ser implementadas e aplicadas (se necessário)."
   ]
  },
  {
   "cell_type": "code",
   "execution_count": null,
   "metadata": {},
   "outputs": [],
   "source": [
    "#joinned_train[\"title\"] = joinned_train[\"title\"].apply(lambda text: preprocess(text))\n",
    "#test[\"title\"] = test[\"title\"].apply(lambda text: preprocess(text))"
   ]
  },
  {
   "cell_type": "code",
   "execution_count": null,
   "metadata": {},
   "outputs": [],
   "source": [
    "joinned_train[\"content\"] = joinned_train[\"content\"].apply(lambda text: preprocess(text))\n",
    "test[\"content\"] = test[\"content\"].apply(lambda text: preprocess(text))"
   ]
  },
  {
   "cell_type": "code",
   "execution_count": null,
   "metadata": {},
   "outputs": [],
   "source": [
    "joinned_train.to_csv(\"preprocessed_joined_train.csv\")"
   ]
  },
  {
   "cell_type": "code",
   "execution_count": null,
   "metadata": {},
   "outputs": [],
   "source": [
    "test.to_csv(\"preprocessed_test.csv\")"
   ]
  },
  {
   "cell_type": "markdown",
   "metadata": {},
   "source": [
    "---\n",
    "### Experimento\n",
    "\n",
    "Nesta seção, o experimento deve ser conduzido, utilizando os protocolos experimentais padrões e testando diferentes modelos."
   ]
  },
  {
   "cell_type": "code",
   "execution_count": null,
   "metadata": {},
   "outputs": [],
   "source": [
    "X = joinned_train[\"content\"]\n",
    "y_train = joinned_train[\"label\"]\n",
    "X_test = test[\"content\"]"
   ]
  },
  {
   "cell_type": "code",
   "execution_count": null,
   "metadata": {},
   "outputs": [],
   "source": [
    "from sklearn.feature_extraction.text import TfidfVectorizer\n",
    "\n",
    "vectorization = TfidfVectorizer(max_features = 8000)\n",
    "x_train = vectorization.fit_transform(X)\n",
    "X_test_vec = vectorization.transform(X_test)"
   ]
  },
  {
   "cell_type": "code",
   "execution_count": null,
   "metadata": {},
   "outputs": [],
   "source": [
    "from xgboost import XGBClassifier\n",
    "\n",
    "xgb = XGBClassifier(objective='binary:logistic')\n",
    "xgb.fit(x_train, y_train)\n",
    "pred = xgb.predict_proba(X_test_vec)"
   ]
  },
  {
   "cell_type": "code",
   "execution_count": null,
   "metadata": {},
   "outputs": [],
   "source": [
    "sample_sub[\"label\"] = pred[:, 1] \n",
    "sample_sub.set_index(\"id\").to_csv(\"default-xgb-alldata.csv\")"
   ]
  },
  {
   "cell_type": "markdown",
   "metadata": {},
   "source": [
    "---\n",
    "### Análise dos Resultados\n",
    "\n",
    "Nesta seção, os resultados devem ser exibidos através de tabelas e gráficos, comparados e profundamente analisados."
   ]
  },
  {
   "cell_type": "code",
   "execution_count": null,
   "metadata": {},
   "outputs": [],
   "source": []
  }
 ],
 "metadata": {
  "kernelspec": {
   "display_name": "Python 3",
   "language": "python",
   "name": "python3"
  },
  "language_info": {
   "codemirror_mode": {
    "name": "ipython",
    "version": 3
   },
   "file_extension": ".py",
   "mimetype": "text/x-python",
   "name": "python",
   "nbconvert_exporter": "python",
   "pygments_lexer": "ipython3",
   "version": "3.11.5"
  }
 },
 "nbformat": 4,
 "nbformat_minor": 4
}
